{
  "nbformat": 4,
  "nbformat_minor": 0,
  "metadata": {
    "colab": {
      "provenance": [],
      "authorship_tag": "ABX9TyOC3aCGq7c3Ep6pm+CmN4DQ",
      "include_colab_link": true
    },
    "kernelspec": {
      "name": "python3",
      "display_name": "Python 3"
    },
    "language_info": {
      "name": "python"
    }
  },
  "cells": [
    {
      "cell_type": "markdown",
      "metadata": {
        "id": "view-in-github",
        "colab_type": "text"
      },
      "source": [
        "<a href=\"https://colab.research.google.com/github/Santiago-Galan-Hub/Python-Basico-Ciencia-Datos/blob/main/Ejemplo1PythonB.ipynb\" target=\"_parent\"><img src=\"https://colab.research.google.com/assets/colab-badge.svg\" alt=\"Open In Colab\"/></a>"
      ]
    },
    {
      "cell_type": "code",
      "execution_count": 3,
      "metadata": {
        "colab": {
          "base_uri": "https://localhost:8080/"
        },
        "id": "xl6ubTz7xMZV",
        "outputId": "de478de2-d25f-493c-86bf-1aef2840e6e0"
      },
      "outputs": [
        {
          "output_type": "stream",
          "name": "stdout",
          "text": [
            "Hola Santiago\n"
          ]
        }
      ],
      "source": [
        "print (\"Hola Santiago\")"
      ]
    },
    {
      "cell_type": "code",
      "source": [
        "print (\"Inicio uso GitHub\")"
      ],
      "metadata": {
        "colab": {
          "base_uri": "https://localhost:8080/"
        },
        "id": "WLheHwVp4-0j",
        "outputId": "e1e64d94-b85c-469f-a4e4-267fbb7a0b57"
      },
      "execution_count": 4,
      "outputs": [
        {
          "output_type": "stream",
          "name": "stdout",
          "text": [
            "Inicio uso GitHub\n"
          ]
        }
      ]
    }
  ]
}