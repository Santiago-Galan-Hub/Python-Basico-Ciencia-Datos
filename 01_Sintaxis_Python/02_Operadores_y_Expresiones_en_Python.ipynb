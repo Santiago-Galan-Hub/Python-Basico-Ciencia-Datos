{
  "nbformat": 4,
  "nbformat_minor": 0,
  "metadata": {
    "colab": {
      "provenance": []
    },
    "kernelspec": {
      "name": "python3",
      "display_name": "Python 3"
    },
    "language_info": {
      "name": "python"
    }
  },
  "cells": [
    {
      "cell_type": "code",
      "execution_count": null,
      "metadata": {
        "id": "UExXYcj7S-Lk"
      },
      "outputs": [],
      "source": [
        "## Operadores Aritmeticos en Python ##\n"
      ]
    },
    {
      "cell_type": "code",
      "source": [
        "A = 20\n",
        "B = 15\n",
        "\n",
        "# Operador + Suma\n",
        "\n",
        "suma = A + B\n",
        "print (suma)\n",
        "\n",
        "# operador - Resta\n",
        "\n",
        "resta = A - B\n",
        "print (resta)\n",
        "\n",
        "# Operador * Multiplicacion\n",
        "\n",
        "Multiplicacion = A * B\n",
        "print (Multiplicacion)\n",
        "\n",
        "# Operador / Division\n",
        "\n",
        "division = A / B\n",
        "print (division)\n",
        "\n",
        "# Operador // Division Entera\n",
        "\n",
        "division_entera = A // B\n",
        "print (division_entera)\n",
        "\n",
        "# Operador % Modulo\n",
        "\n",
        "modulo = A % B\n",
        "print (modulo)\n",
        "\n",
        "# Operador ** Potenciacion\n",
        "\n",
        "potenciacion = A ** B\n",
        "print ( potenciacion)\n",
        "\n",
        "\n",
        "\n",
        "\n",
        "\n",
        "\n"
      ],
      "metadata": {
        "id": "zjkbL3myTPCf"
      },
      "execution_count": null,
      "outputs": []
    },
    {
      "cell_type": "code",
      "source": [
        "## Operacores de Comparacion en Python ##\n"
      ],
      "metadata": {
        "id": "R95u6PsNVjXf"
      },
      "execution_count": null,
      "outputs": []
    },
    {
      "cell_type": "code",
      "source": [
        "X = 25\n",
        "Y = 20\n",
        "\n",
        "# Operador == Ingual que\n",
        "\n",
        "igual_que = X == Y\n",
        "print (igual_que)\n",
        "\n",
        "# Operador != Diferente\n",
        "\n",
        "diferente = X != Y\n",
        "print (diferente)\n",
        "\n",
        "# Operador > Mayor que\n",
        "\n",
        "mayor_que = X > Y\n",
        "print (mayor_que)\n",
        "\n",
        "# Operador < Menor que\n",
        "\n",
        "menor_que = X < Y\n",
        "print (menor_que)\n",
        "\n",
        "# Operador >= Mayor o igual que\n",
        "\n",
        "mayor_igual_que = X >= Y\n",
        "print (mayor_igual_que)\n",
        "\n",
        "# Operador <= Menor o igual que\n",
        "\n",
        "menor_igual_que = X <= Y\n",
        "print (menor_igual_que)\n",
        "\n",
        "\n",
        "\n",
        "\n",
        "\n",
        "\n",
        "\n",
        "\n",
        "\n"
      ],
      "metadata": {
        "id": "AGUQHZwDVxn8"
      },
      "execution_count": null,
      "outputs": []
    },
    {
      "cell_type": "code",
      "source": [
        "## Operadores Logicos en Python ##\n",
        "\n",
        "# AND\n",
        "# OR\n",
        "# NOT\n",
        "\n",
        "A = True\n",
        "B = False\n",
        "\n",
        "# Operador Logic AND Ejemplo:\n",
        "\n",
        "print (A and B)\n",
        "print (True and True)\n",
        "\n",
        "# Operador Logico OR Ejemplo:\n",
        "\n",
        "print (A or B)\n",
        "print (False or False)\n",
        "\n",
        "# Operador Logico NOT Ejemplos:\n",
        "\n",
        "print (not A)\n",
        "print (not B)\n",
        "\n",
        "## Que es una  Expresion en Python? ##\n",
        "\n",
        "# Una expresion en Python es la combinacion de  cualer valor, Variable u Operadores, Ejemplo:\n",
        "\n",
        "3 + 4 # Suma Expresio Aritmetica\n",
        "X > 15 # Comparacion Expresion Booleana\n",
        "\n"
      ],
      "metadata": {
        "colab": {
          "base_uri": "https://localhost:8080/"
        },
        "id": "7XJAkPY19PEl",
        "outputId": "aae2d135-5109-41e4-9cfa-1202bef12a47"
      },
      "execution_count": 4,
      "outputs": [
        {
          "output_type": "stream",
          "name": "stdout",
          "text": [
            "False\n",
            "True\n",
            "True\n",
            "False\n",
            "False\n",
            "True\n"
          ]
        }
      ]
    }
  ]
}