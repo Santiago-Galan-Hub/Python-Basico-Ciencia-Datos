{
  "nbformat": 4,
  "nbformat_minor": 0,
  "metadata": {
    "colab": {
      "provenance": []
    },
    "kernelspec": {
      "name": "python3",
      "display_name": "Python 3"
    },
    "language_info": {
      "name": "python"
    }
  },
  "cells": [
    {
      "cell_type": "code",
      "execution_count": null,
      "metadata": {
        "id": "Uz0pxSKW2vkf"
      },
      "outputs": [],
      "source": [
        " ## Tipos de Estrcturas de Datos en Python ##\n",
        ""
      ]
    },
    {
      "cell_type": "code",
      "source": [
        "# Las Listas, Lista de datos ordenados y  mutables, Ejemplo:\n",
        "\n",
        "lista = [1,2,3,4,5]\n",
        "print(lista)\n",
        "\n",
        "Lista_letras = ['a','b','c','d','e']\n",
        "print(Lista_letras)\n",
        "# El  termino mutable hace referencia a que se puede  modificar  despues de creada la  lista #"
      ],
      "metadata": {
        "colab": {
          "base_uri": "https://localhost:8080/"
        },
        "id": "KQFWx03V3mpy",
        "outputId": "73a62603-294a-4592-ba17-2b3cda41c275"
      },
      "execution_count": 2,
      "outputs": [
        {
          "output_type": "stream",
          "name": "stdout",
          "text": [
            "[1, 2, 3, 4, 5]\n",
            "['a', 'b', 'c', 'd', 'e']\n"
          ]
        }
      ]
    },
    {
      "cell_type": "code",
      "source": [
        "# Las  Tuplas, Listas de datos ordenados e inmutables, Ejemplo:\n",
        "\n",
        "tupla = (1, 2, 3, 4, 5, 6)\n",
        "print(tupla)\n",
        "# El termino Inmutable hace referencia a que NO se puede modificar despues de creada la  tupla\n"
      ],
      "metadata": {
        "colab": {
          "base_uri": "https://localhost:8080/"
        },
        "id": "E0Y9J1jl4NmP",
        "outputId": "fc7e77f0-c43d-4588-d556-9f7da05c7db4"
      },
      "execution_count": 3,
      "outputs": [
        {
          "output_type": "stream",
          "name": "stdout",
          "text": [
            "(1, 2, 3, 4, 5, 6)\n"
          ]
        }
      ]
    },
    {
      "cell_type": "code",
      "source": [
        "# los Diccionarios son estructuras con pares clave-valor, Ejemplo:\n",
        "\n",
        "diccionario = {'nombre': 'Juan', 'edad': 25, 'ciudad': 'Madrid'}\n",
        "print(diccionario)\n",
        "# Los  diccionarios  en  Python son  Mutlables"
      ],
      "metadata": {
        "colab": {
          "base_uri": "https://localhost:8080/"
        },
        "id": "TjaOhmxm4s6C",
        "outputId": "f7cd0344-cfae-40fa-969e-a40d20200b84"
      },
      "execution_count": 4,
      "outputs": [
        {
          "output_type": "stream",
          "name": "stdout",
          "text": [
            "{'nombre': 'Juan', 'edad': 25, 'ciudad': 'Madrid'}\n"
          ]
        }
      ]
    }
  ]
}