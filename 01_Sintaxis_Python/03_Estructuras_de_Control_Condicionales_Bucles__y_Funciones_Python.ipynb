{
  "nbformat": 4,
  "nbformat_minor": 0,
  "metadata": {
    "colab": {
      "provenance": []
    },
    "kernelspec": {
      "name": "python3",
      "display_name": "Python 3"
    },
    "language_info": {
      "name": "python"
    }
  },
  "cells": [
    {
      "cell_type": "code",
      "source": [
        " ## En Python  tenemos  tres Condionales que  son: (if, elif y else) Ejmplos:\n",
        ""
      ],
      "metadata": {
        "id": "WJYKuDKKBtfx"
      },
      "execution_count": 1,
      "outputs": []
    },
    {
      "cell_type": "code",
      "source": [
        "# Condicionales\n",
        "\n",
        "edad =10\n",
        "if edad >= 18:\n",
        "  print (\"Eres  Mayor de edad, puedes Votar\")\n",
        "else:\n",
        "  print (\"Eres menor de Edad, No Puedes Votar\")\n",
        "\n",
        "\n",
        "\n",
        "\n",
        "\n"
      ],
      "metadata": {
        "colab": {
          "base_uri": "https://localhost:8080/"
        },
        "id": "c8sc-xMwB7J2",
        "outputId": "61a80c64-5cfc-4e46-d2d2-3ff89dea8b3f"
      },
      "execution_count": 4,
      "outputs": [
        {
          "output_type": "stream",
          "name": "stdout",
          "text": [
            "Eres menor de Edad, No Puedes Votar\n"
          ]
        }
      ]
    },
    {
      "cell_type": "code",
      "source": [
        "  ## Bucles en Python (for, while)"
      ],
      "metadata": {
        "id": "ovqGJ_KxCugt"
      },
      "execution_count": null,
      "outputs": []
    },
    {
      "cell_type": "code",
      "source": [
        "# Bucle FOR, Ejemplo:\n",
        "\n",
        "for i in range(15):\n",
        "  print (i)"
      ],
      "metadata": {
        "id": "o6koqBh_C33h"
      },
      "execution_count": null,
      "outputs": []
    },
    {
      "cell_type": "code",
      "execution_count": null,
      "metadata": {
        "id": "VeqJ8c1UBbhz"
      },
      "outputs": [],
      "source": [
        "# Bucle WHILE, Ejemplo:\n",
        "\n",
        "X = 0\n",
        "while X < 10:\n",
        "  print (X)\n",
        "  X += 1\n"
      ]
    },
    {
      "cell_type": "code",
      "source": [
        " ## Funciones en Python ##\n",
        ""
      ],
      "metadata": {
        "id": "hDQRNUKFvHOC"
      },
      "execution_count": 11,
      "outputs": []
    },
    {
      "cell_type": "code",
      "source": [
        "#  el  Principal  aporte d elas  Funciones en  cualquier  lenguaje  es  reutilizar  Codigo\n",
        "\n",
        "# Funciones que no reciben argumentos ni retornan  resultados, Ejercicio:\n",
        "\n",
        "def saludar():\n",
        "  print (\"Hola Santiago,  como  va  todo???'\")\n",
        "\n",
        "saludar() # LLamado de la Funcion\n"
      ],
      "metadata": {
        "id": "WIWibnguvNuZ"
      },
      "execution_count": null,
      "outputs": []
    },
    {
      "cell_type": "code",
      "source": [
        "# Funciones con  parametros, Ejercicios:\n",
        "\n",
        "def saludar_nombre(nombre):\n",
        "  print (\"Hola\", nombre, \"como va todo?\")\n",
        "\n",
        "saludar_nombre(\"Santiago\")\n"
      ],
      "metadata": {
        "colab": {
          "base_uri": "https://localhost:8080/"
        },
        "id": "rAX8vUh0wASx",
        "outputId": "1205ad93-c04b-4e0e-f9d8-1c2a61ee5cbe"
      },
      "execution_count": 15,
      "outputs": [
        {
          "output_type": "stream",
          "name": "stdout",
          "text": [
            "Hola Santiago como va todo?\n"
          ]
        }
      ]
    },
    {
      "cell_type": "code",
      "source": [
        "# Funciones con  Varios  parametros  y  return\n",
        "\n",
        "def Suma(A, B):\n",
        "  return A + B\n",
        "\n",
        "print (Suma(15, 25))\n",
        "\n"
      ],
      "metadata": {
        "colab": {
          "base_uri": "https://localhost:8080/"
        },
        "id": "s1I3xhs_zAdz",
        "outputId": "5836940f-2463-46a3-d12c-c1ee092561b7"
      },
      "execution_count": 16,
      "outputs": [
        {
          "output_type": "stream",
          "name": "stdout",
          "text": [
            "40\n"
          ]
        }
      ]
    },
    {
      "cell_type": "code",
      "source": [
        " ## Funciones con  Condicionales dentro d ela  Funcion, Ejemplo:\n",
        "\n",
        " def es_mayor_de_edad(edad):\n",
        "  if edad >= 18:\n",
        "    return True\n",
        "  else:\n",
        "    return False\n",
        "print (es_mayor_de_edad(15))\n"
      ],
      "metadata": {
        "colab": {
          "base_uri": "https://localhost:8080/"
        },
        "id": "rtu8jvrK0t84",
        "outputId": "7777f1f8-bfb8-4d31-ba23-7d854c43ac4c"
      },
      "execution_count": 18,
      "outputs": [
        {
          "output_type": "stream",
          "name": "stdout",
          "text": [
            "False\n"
          ]
        }
      ]
    }
  ]
}