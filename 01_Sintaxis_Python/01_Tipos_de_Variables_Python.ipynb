{
  "nbformat": 4,
  "nbformat_minor": 0,
  "metadata": {
    "colab": {
      "provenance": []
    },
    "kernelspec": {
      "name": "python3",
      "display_name": "Python 3"
    },
    "language_info": {
      "name": "python"
    }
  },
  "cells": [
    {
      "cell_type": "code",
      "execution_count": null,
      "metadata": {
        "id": "xWgEi0KI_vUz"
      },
      "outputs": [],
      "source": [
        "# Tipos de Variables en Python"
      ]
    },
    {
      "cell_type": "code",
      "source": [
        "entero = 10\n",
        "decimal = 3.1416\n",
        "texto = \"Hola Santiago Buen dia\"\n",
        "booleano = False\n",
        "\n",
        "# Imprime el  valor que  almaceno  cada  Variable\n",
        "\n",
        "print (entero)\n",
        "print (decimal)\n",
        "print (texto)\n",
        "print (booleano)\n",
        "\n",
        "# Imprimir el tipo de dato de  cada variables\n",
        "\n",
        "print (type(entero))\n",
        "print (type(decimal))\n",
        "print (type(texto))\n",
        "print (type(booleano))\n",
        "\n",
        "# En  Python se aconseja nombrar las  variables en  minuscula, ejemplo:\n",
        "\n",
        "numero = 10\n",
        "edad = 15\n",
        "numeroid = 25\n",
        "\n",
        "# Usar Guiones bajo entre palabras _, ejemplo:\n",
        "\n",
        "primer_numero = 24\n",
        "valor_de_pi = 3.1416\n",
        "documento_identidad = 78655480\n",
        "nombre_empleado = \"Santiago Galan\"\n",
        "\n",
        "# No usar  simbolos  o  caracteres especiales, ni espacios ni  acentos, ejemplo:\n",
        "\n",
        "# comision$ = 25, Error de caracter especial\n",
        "# años 25, Error de acento\n",
        "# 2numero = 250, Error inicia  con  numero\n",
        "\n",
        "# Ademas de  esto y  lo mas  Importante es usar  nombres de Variables  descriptivas, ejemplo:\n",
        "\n",
        "valor_pasaje = 250\n",
        "edad_alumno = 17\n",
        "precio_producto = 3.5487\n",
        "\n",
        "\n",
        "\n",
        "\n",
        "\n",
        "\n",
        "\n",
        "\n",
        "\n",
        "\n",
        "\n",
        "\n",
        "\n",
        "\n",
        "\n",
        "\n"
      ],
      "metadata": {
        "colab": {
          "base_uri": "https://localhost:8080/"
        },
        "id": "ZeO1zFdj__0D",
        "outputId": "ff0516af-359b-4ad4-802c-97fc6c2dc35d"
      },
      "execution_count": 11,
      "outputs": [
        {
          "output_type": "stream",
          "name": "stdout",
          "text": [
            "10\n",
            "3.1416\n",
            "Hola Santiago Buen dia\n",
            "False\n",
            "<class 'int'>\n",
            "<class 'float'>\n",
            "<class 'str'>\n",
            "<class 'bool'>\n"
          ]
        }
      ]
    }
  ]
}